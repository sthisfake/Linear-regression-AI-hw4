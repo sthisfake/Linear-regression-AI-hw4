{
 "cells": [
  {
   "cell_type": "code",
   "execution_count": 2,
   "id": "4520dce3-7e51-49fc-beaa-14b2c307fcc7",
   "metadata": {},
   "outputs": [
    {
     "name": "stderr",
     "output_type": "stream",
     "text": [
      "WARNING: You are using pip version 22.0.4; however, version 22.1.2 is available.\n",
      "You should consider upgrading via the 'C:\\Users\\Pouya\\AppData\\Local\\Programs\\Python\\Python310\\python.exe -m pip install --upgrade pip' command.\n"
     ]
    },
    {
     "name": "stdout",
     "output_type": "stream",
     "text": [
      "Requirement already satisfied: numpy in c:\\users\\pouya\\appdata\\local\\programs\\python\\python310\\lib\\site-packages (1.23.0)\n"
     ]
    }
   ],
   "source": [
    "!pip install numpy"
   ]
  },
  {
   "cell_type": "code",
   "execution_count": 3,
   "id": "7d43afc4-14a1-4bb9-9df9-9686fcdac756",
   "metadata": {},
   "outputs": [
    {
     "name": "stdout",
     "output_type": "stream",
     "text": [
      "Requirement already satisfied: numpy in c:\\users\\pouya\\appdata\\local\\programs\\python\\python310\\lib\\site-packages (1.23.0)\n"
     ]
    },
    {
     "name": "stderr",
     "output_type": "stream",
     "text": [
      "WARNING: You are using pip version 22.0.4; however, version 22.1.2 is available.\n",
      "You should consider upgrading via the 'C:\\Users\\Pouya\\AppData\\Local\\Programs\\Python\\Python310\\python.exe -m pip install --upgrade pip' command.\n"
     ]
    }
   ],
   "source": [
    "!pip install numpy"
   ]
  },
  {
   "cell_type": "code",
   "execution_count": null,
   "id": "805d782d-f132-4957-ace6-4bffd33e8e5f",
   "metadata": {},
   "outputs": [],
   "source": []
  },
  {
   "cell_type": "code",
   "execution_count": 5,
   "id": "d0170fd7-d6d3-447a-a7ee-cef1a39582c0",
   "metadata": {},
   "outputs": [
    {
     "name": "stdout",
     "output_type": "stream",
     "text": [
      "Requirement already satisfied: pandas in c:\\users\\pouya\\appdata\\local\\programs\\python\\python310\\lib\\site-packages (1.4.3)\n",
      "Requirement already satisfied: pytz>=2020.1 in c:\\users\\pouya\\appdata\\local\\programs\\python\\python310\\lib\\site-packages (from pandas) (2022.1)\n",
      "Requirement already satisfied: python-dateutil>=2.8.1 in c:\\users\\pouya\\appdata\\local\\programs\\python\\python310\\lib\\site-packages (from pandas) (2.8.2)\n",
      "Requirement already satisfied: numpy>=1.21.0 in c:\\users\\pouya\\appdata\\local\\programs\\python\\python310\\lib\\site-packages (from pandas) (1.23.0)\n",
      "Requirement already satisfied: six>=1.5 in c:\\users\\pouya\\appdata\\local\\programs\\python\\python310\\lib\\site-packages (from python-dateutil>=2.8.1->pandas) (1.16.0)\n"
     ]
    },
    {
     "name": "stderr",
     "output_type": "stream",
     "text": [
      "WARNING: You are using pip version 22.0.4; however, version 22.1.2 is available.\n",
      "You should consider upgrading via the 'C:\\Users\\Pouya\\AppData\\Local\\Programs\\Python\\Python310\\python.exe -m pip install --upgrade pip' command.\n"
     ]
    }
   ],
   "source": [
    "!pip install pandas"
   ]
  },
  {
   "cell_type": "code",
   "execution_count": 6,
   "id": "10e6ae84-232f-4e5d-9bd9-620a18566b09",
   "metadata": {},
   "outputs": [
    {
     "name": "stdout",
     "output_type": "stream",
     "text": [
      "Requirement already satisfied: pandas in c:\\users\\pouya\\appdata\\local\\programs\\python\\python310\\lib\\site-packages (1.4.3)\n",
      "Requirement already satisfied: pytz>=2020.1 in c:\\users\\pouya\\appdata\\local\\programs\\python\\python310\\lib\\site-packages (from pandas) (2022.1)\n",
      "Requirement already satisfied: numpy>=1.21.0 in c:\\users\\pouya\\appdata\\local\\programs\\python\\python310\\lib\\site-packages (from pandas) (1.23.0)\n",
      "Requirement already satisfied: python-dateutil>=2.8.1 in c:\\users\\pouya\\appdata\\local\\programs\\python\\python310\\lib\\site-packages (from pandas) (2.8.2)\n",
      "Requirement already satisfied: six>=1.5 in c:\\users\\pouya\\appdata\\local\\programs\\python\\python310\\lib\\site-packages (from python-dateutil>=2.8.1->pandas) (1.16.0)\n"
     ]
    },
    {
     "name": "stderr",
     "output_type": "stream",
     "text": [
      "WARNING: You are using pip version 22.0.4; however, version 22.1.2 is available.\n",
      "You should consider upgrading via the 'C:\\Users\\Pouya\\AppData\\Local\\Programs\\Python\\Python310\\python.exe -m pip install --upgrade pip' command.\n"
     ]
    }
   ],
   "source": [
    "!pip install pandas"
   ]
  },
  {
   "cell_type": "code",
   "execution_count": 7,
   "id": "4632429b-70a5-4e66-a8e4-abf552b7734f",
   "metadata": {},
   "outputs": [
    {
     "name": "stdout",
     "output_type": "stream",
     "text": [
      "Collecting matplotlib\n",
      "  Downloading matplotlib-3.5.2-cp310-cp310-win_amd64.whl (7.2 MB)\n",
      "     ---------------------------------------- 7.2/7.2 MB 436.8 kB/s eta 0:00:00\n",
      "Collecting fonttools>=4.22.0\n",
      "  Using cached fonttools-4.33.3-py3-none-any.whl (930 kB)\n",
      "Requirement already satisfied: numpy>=1.17 in c:\\users\\pouya\\appdata\\local\\programs\\python\\python310\\lib\\site-packages (from matplotlib) (1.23.0)\n",
      "Collecting kiwisolver>=1.0.1\n",
      "  Downloading kiwisolver-1.4.3-cp310-cp310-win_amd64.whl (55 kB)\n",
      "     -------------------------------------- 55.3/55.3 KB 479.1 kB/s eta 0:00:00\n",
      "Collecting cycler>=0.10\n",
      "  Using cached cycler-0.11.0-py3-none-any.whl (6.4 kB)\n",
      "Requirement already satisfied: packaging>=20.0 in c:\\users\\pouya\\appdata\\local\\programs\\python\\python310\\lib\\site-packages (from matplotlib) (21.3)\n",
      "Requirement already satisfied: pyparsing>=2.2.1 in c:\\users\\pouya\\appdata\\local\\programs\\python\\python310\\lib\\site-packages (from matplotlib) (3.0.9)\n",
      "Requirement already satisfied: python-dateutil>=2.7 in c:\\users\\pouya\\appdata\\local\\programs\\python\\python310\\lib\\site-packages (from matplotlib) (2.8.2)\n",
      "Collecting pillow>=6.2.0\n",
      "  Downloading Pillow-9.1.1-cp310-cp310-win_amd64.whl (3.3 MB)\n",
      "     ---------------------------------------- 3.3/3.3 MB 444.9 kB/s eta 0:00:00\n",
      "Requirement already satisfied: six>=1.5 in c:\\users\\pouya\\appdata\\local\\programs\\python\\python310\\lib\\site-packages (from python-dateutil>=2.7->matplotlib) (1.16.0)\n",
      "Installing collected packages: pillow, kiwisolver, fonttools, cycler, matplotlib\n",
      "Successfully installed cycler-0.11.0 fonttools-4.33.3 kiwisolver-1.4.3 matplotlib-3.5.2 pillow-9.1.1\n"
     ]
    },
    {
     "name": "stderr",
     "output_type": "stream",
     "text": [
      "WARNING: You are using pip version 22.0.4; however, version 22.1.2 is available.\n",
      "You should consider upgrading via the 'C:\\Users\\Pouya\\AppData\\Local\\Programs\\Python\\Python310\\python.exe -m pip install --upgrade pip' command.\n"
     ]
    }
   ],
   "source": [
    "!pip install matplotlib"
   ]
  },
  {
   "cell_type": "code",
   "execution_count": 8,
   "id": "2223d050-208d-4390-8f92-02c8578596a0",
   "metadata": {},
   "outputs": [
    {
     "name": "stdout",
     "output_type": "stream",
     "text": [
      "Collecting scikit-learn\n",
      "  Downloading scikit_learn-1.1.1-cp310-cp310-win_amd64.whl (7.3 MB)\n",
      "     ---------------------------------------- 7.3/7.3 MB 449.8 kB/s eta 0:00:00\n",
      "Requirement already satisfied: numpy>=1.17.3 in c:\\users\\pouya\\appdata\\local\\programs\\python\\python310\\lib\\site-packages (from scikit-learn) (1.23.0)\n",
      "Collecting joblib>=1.0.0\n",
      "  Using cached joblib-1.1.0-py2.py3-none-any.whl (306 kB)\n",
      "Collecting scipy>=1.3.2\n",
      "  Downloading scipy-1.8.1-cp310-cp310-win_amd64.whl (36.9 MB)\n",
      "     -------------------------------------- 36.9/36.9 MB 444.1 kB/s eta 0:00:00\n",
      "Collecting threadpoolctl>=2.0.0\n",
      "  Using cached threadpoolctl-3.1.0-py3-none-any.whl (14 kB)\n",
      "Installing collected packages: threadpoolctl, scipy, joblib, scikit-learn\n",
      "Successfully installed joblib-1.1.0 scikit-learn-1.1.1 scipy-1.8.1 threadpoolctl-3.1.0\n"
     ]
    },
    {
     "name": "stderr",
     "output_type": "stream",
     "text": [
      "WARNING: You are using pip version 22.0.4; however, version 22.1.2 is available.\n",
      "You should consider upgrading via the 'C:\\Users\\Pouya\\AppData\\Local\\Programs\\Python\\Python310\\python.exe -m pip install --upgrade pip' command.\n"
     ]
    }
   ],
   "source": [
    "!pip install scikit-learn"
   ]
  },
  {
   "cell_type": "code",
   "execution_count": 8,
   "id": "1cba50cd-9d2e-4418-8e5f-22ba26c17b82",
   "metadata": {},
   "outputs": [],
   "source": [
    "import pandas as pd\n",
    "import numpy as np\n",
    "import matplotlib.pyplot as plt\n",
    "import sklearn import datasets"
   ]
  },
  {
   "cell_type": "code",
   "execution_count": 37,
   "id": "f2e52c56-4e4b-4f37-8d9c-537b70692950",
   "metadata": {},
   "outputs": [
    {
     "data": {
      "text/html": [
       "<div>\n",
       "<style scoped>\n",
       "    .dataframe tbody tr th:only-of-type {\n",
       "        vertical-align: middle;\n",
       "    }\n",
       "\n",
       "    .dataframe tbody tr th {\n",
       "        vertical-align: top;\n",
       "    }\n",
       "\n",
       "    .dataframe thead th {\n",
       "        text-align: right;\n",
       "    }\n",
       "</style>\n",
       "<table border=\"1\" class=\"dataframe\">\n",
       "  <thead>\n",
       "    <tr style=\"text-align: right;\">\n",
       "      <th></th>\n",
       "      <th>Unnamed: 0</th>\n",
       "      <th>0</th>\n",
       "    </tr>\n",
       "  </thead>\n",
       "  <tbody>\n",
       "    <tr>\n",
       "      <th>count</th>\n",
       "      <td>442.000000</td>\n",
       "      <td>4.420000e+02</td>\n",
       "    </tr>\n",
       "    <tr>\n",
       "      <th>mean</th>\n",
       "      <td>220.500000</td>\n",
       "      <td>-8.015207e-16</td>\n",
       "    </tr>\n",
       "    <tr>\n",
       "      <th>std</th>\n",
       "      <td>127.738666</td>\n",
       "      <td>4.761905e-02</td>\n",
       "    </tr>\n",
       "    <tr>\n",
       "      <th>min</th>\n",
       "      <td>0.000000</td>\n",
       "      <td>-9.027530e-02</td>\n",
       "    </tr>\n",
       "    <tr>\n",
       "      <th>25%</th>\n",
       "      <td>110.250000</td>\n",
       "      <td>-3.422907e-02</td>\n",
       "    </tr>\n",
       "    <tr>\n",
       "      <th>50%</th>\n",
       "      <td>220.500000</td>\n",
       "      <td>-7.283766e-03</td>\n",
       "    </tr>\n",
       "    <tr>\n",
       "      <th>75%</th>\n",
       "      <td>330.750000</td>\n",
       "      <td>3.124802e-02</td>\n",
       "    </tr>\n",
       "    <tr>\n",
       "      <th>max</th>\n",
       "      <td>441.000000</td>\n",
       "      <td>1.705552e-01</td>\n",
       "    </tr>\n",
       "  </tbody>\n",
       "</table>\n",
       "</div>"
      ],
      "text/plain": [
       "       Unnamed: 0             0\n",
       "count  442.000000  4.420000e+02\n",
       "mean   220.500000 -8.015207e-16\n",
       "std    127.738666  4.761905e-02\n",
       "min      0.000000 -9.027530e-02\n",
       "25%    110.250000 -3.422907e-02\n",
       "50%    220.500000 -7.283766e-03\n",
       "75%    330.750000  3.124802e-02\n",
       "max    441.000000  1.705552e-01"
      ]
     },
     "execution_count": 37,
     "metadata": {},
     "output_type": "execute_result"
    }
   ],
   "source": [
    "bmi = pd.read_csv('bmi.csv')\n",
    "bmi.describe()"
   ]
  },
  {
   "cell_type": "code",
   "execution_count": 118,
   "id": "c78402cb-fbd3-422a-8fe6-aa1206c55b61",
   "metadata": {},
   "outputs": [
    {
     "data": {
      "text/plain": [
       "Index(['Unnamed: 0', '0'], dtype='object')"
      ]
     },
     "execution_count": 118,
     "metadata": {},
     "output_type": "execute_result"
    }
   ],
   "source": [
    "bmi.head()\n",
    "bmi.columns"
   ]
  },
  {
   "cell_type": "code",
   "execution_count": 150,
   "id": "f8f937b5-561c-491c-880b-d158c5a6afa8",
   "metadata": {},
   "outputs": [],
   "source": [
    "from numpy import genfromtxt\n",
    "my_data = genfromtxt('bmi.csv', delimiter=',')\n",
    "x = []\n",
    "y = []\n",
    "for i in range(len(my_data)):\n",
    "    for j in range(len(my_data[i])):\n",
    "        if j == 0 :\n",
    "            x.insert(1 , my_data[i][j])\n",
    "        else:\n",
    "            y.insert(1 , my_data[i][j])\n",
    "x.reverse()\n",
    "y.reverse()\n",
    "x_train, x_test, y_train, y_test = train_test_split(x, y)\n"
   ]
  },
  {
   "cell_type": "code",
   "execution_count": 141,
   "id": "0b108cef-0a6b-4a3b-bf29-58491389808b",
   "metadata": {},
   "outputs": [],
   "source": [
    "class Linear_Regression:\n",
    "    def __init__(self):\n",
    "        self.x = None\n",
    "        self.y = None\n",
    "        self.alpha0 = None\n",
    "        self.alpha1 = None\n",
    "        self.coefficients = [self.alpha0, self.alpha1]\n",
    "    \n",
    "    def fit(self, x, y):\n",
    "        self.x = np.array(x)\n",
    "        self.y = np.array(y)\n",
    "        mean_x = self.x.mean()\n",
    "        mean_y = self.y.mean()\n",
    "        s=0\n",
    "        m=0\n",
    "        for i in range(len(self.x)):\n",
    "            s +=(self.x[i]-mean_x)*(self.y[i]-mean_y)\n",
    "            m += (self.x[i]-mean_x)**2\n",
    "            \n",
    "        self.alpha1 = s/m\n",
    "        self.alpha0 = mean_y - self.alpha1*mean_x\n",
    "        self.coefficients = [self.alpha0, self.alpha1]\n",
    "        \n",
    "        return self\n",
    "    \n",
    "    def predict(self, x):\n",
    "        n=len(x)\n",
    "        y=[]\n",
    "        for i in range(n):\n",
    "            y.append(self.alpha0 + self.alpha1*x[i])\n",
    "        return y\n",
    "    \n",
    "    def mse(self, y_test, y_predict):\n",
    "        e=0\n",
    "        n= len(y_predict)\n",
    "        for i in range(n):\n",
    "            e += (y_test[i] - y_predict[i])**2\n",
    "        return e/n"
   ]
  },
  {
   "cell_type": "code",
   "execution_count": 100,
   "id": "635d4faa-1797-492d-ad3e-3eec5a5329bb",
   "metadata": {},
   "outputs": [
    {
     "name": "stdout",
     "output_type": "stream",
     "text": [
      "predicted y :  [173.07633959899124, 169.9937088147144, 141.22248816146376, 149.44283691953538, 168.96616521995543, 123.75424705056159, 133.00213940339214, 97.03811358682881, 210.0679090103135, 113.47881110297206, 83.68004685496243, 99.0932007763467, 195.6822986836882, 143.27757535098164, 120.67161626628472, 199.79247306272399, 71.34952371785502, 157.66318567760695, 172.04879600423232, 145.33266254049954, 252.19719639543055, 128.89196502435632, 146.36020613525852, 115.53389829248997, 283.0235042381991, 314.8773556757267, 154.58055489333015, 188.4894935203755, 97.03811358682881, 143.27757535098164, 129.91950861911528, 142.25003175622268, 119.64407267152575, 149.44283691953538, 217.26071417362618, 161.7733600566428, 154.58055489333015, 115.53389829248997, 177.18651397802705, 67.23934933881922, 210.0679090103135, 124.78179064532051, 123.75424705056159, 134.0296829981511, 113.47881110297206, 166.91107803043755, 128.89196502435632, 153.55301129857116, 218.2882577683851, 85.73513404448033, 123.75424705056159, 108.3410931291773, 169.9937088147144, 153.55301129857116, 122.7267034558026, 148.4152933247764, 166.91107803043755, 174.1038831937502, 195.6822986836882, 109.36863672393623, 120.67161626628472, 245.00439123211788, 203.90264744175977, 269.6654375063327, 75.4596980968908, 240.89421685308207, 104.23091875014148, 141.22248816146376, 125.80933424007948, 208.0128218207956, 233.70141168976937, 151.49792410905326, 158.69072927236593, 160.7458164618838, 228.56369371597464, 220.34334495790304, 128.89196502435632, 100.12074437110567, 117.58898548200784, 167.93862162519648, 226.50860652645676, 114.50635469773098, 162.8009036514017, 113.47881110297206, 119.64407267152575, 157.66318567760695, 236.78404247404626, 120.67161626628472, 98.0656571815878, 122.7267034558026, 204.93019103651875, 94.98302639731091, 153.55301129857116, 129.91950861911528, 81.62495966544454, 171.02125240947333, 137.11231378242792, 137.11231378242792, 189.51703711513449, 82.6525032602035]\n",
      "coefficients :  [152.27671846254725, 953.3606272002041]\n",
      "mse result :  3752.7694347356446\n"
     ]
    }
   ],
   "source": [
    "instance = Linear_Regression()\n",
    "instance.fit(x_train , y_train)\n",
    "prediction_y = instance.predict(x_test)\n",
    "print(\"predicted y : \" , prediction_y ) \n",
    "print(\"coefficients : \" , instance.coefficients )\n",
    "print(\"mse result : \" , instance.mse(y_test , prediction_y))"
   ]
  },
  {
   "cell_type": "code",
   "execution_count": 104,
   "id": "a6c599e9-bcd9-408b-a056-265bb44181f9",
   "metadata": {},
   "outputs": [
    {
     "data": {
      "text/plain": [
       "[<matplotlib.lines.Line2D at 0x2c3ac8e6bf0>]"
      ]
     },
     "execution_count": 104,
     "metadata": {},
     "output_type": "execute_result"
    },
    {
     "data": {
      "image/png": "[encoded data removed]",
      "text/plain": [
       "<Figure size 432x288 with 1 Axes>"
      ]
     },
     "metadata": {
      "needs_background": "light"
     },
     "output_type": "display_data"
    }
   ],
   "source": [
    "plt.scatter(x_test, y_test)\n",
    "plt.plot(x_test, prediction_y, c='g', linewidth=2)"
   ]
  }
 ],
 "metadata": {
  "kernelspec": {
   "display_name": "Python 3 (ipykernel)",
   "language": "python",
   "name": "python3"
  },
  "language_info": {
   "codemirror_mode": {
    "name": "ipython",
    "version": 3
   },
   "file_extension": ".py",
   "mimetype": "text/x-python",
   "name": "python",
   "nbconvert_exporter": "python",
   "pygments_lexer": "ipython3",
   "version": "3.10.5"
  }
 },
 "nbformat": 4,
 "nbformat_minor": 5
}
